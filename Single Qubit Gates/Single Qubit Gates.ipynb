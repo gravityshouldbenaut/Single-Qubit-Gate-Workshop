{
 "cells": [
  {
   "cell_type": "markdown",
   "metadata": {},
   "source": [
    "$$\\newcommand{\\ket}[1]{\\left|{#1}\\right\\rangle}$$\n",
    "$$\\newcommand{\\bra}[1]{\\left\\langle{#1}\\right|}$$\n",
    "\n",
    "# Introduction\n",
    "\n",
    "The goal of this workshop is to get you familiar with how Quantum Gates work.\n",
    "\n",
    "You'll get to walk through the process of building your own Quantum Logic Gate and being able to see its operation."
   ]
  },
  {
   "cell_type": "markdown",
   "metadata": {},
   "source": [
    "# What is a Qubit?\n",
    "\n",
    "A **qubit** is the fundamental unit of quantum computation, similar to what we like to consider a **bit** in our computers.\n",
    "\n",
    "Unlike a traditional bit, the qubit exhibits quantum mechanical properties like those we covered in our last meeting:\n",
    "\n",
    "* Superposition\n",
    "* Entanglement\n",
    "\n",
    "These properties can be used to make certain traditional problems that were considered infeasible or too slow on current computers possible.\n",
    "\n",
    "Before we can jump into gates, there are couple important pieces of information I'd like to expand upon from our prior meeting"
   ]
  },
  {
   "cell_type": "markdown",
   "metadata": {},
   "source": [
    "# Wave Functions\n",
    "\n",
    "The **Wave Function** is a kind of function that encapsulates everything *we want to know* about any quantum system, be it a singular particle or some group of particles. \n",
    "\n",
    "It's usually denoted by the greek letter $\\Psi$ or $\\psi$ by itself.\n",
    "\n",
    "The stuff \"we want to know\" about a quantum system are more formally known as **observables** such as momentum, kinetic energy, position, stuff we can quite literally see for ourselves. \n",
    "\n",
    "Due to the fact that the wave function can encode all this knowledge, you'll generally have to pick what you're measuring through an **operator**, which is a big part of how Quantum Gates work. "
   ]
  },
  {
   "cell_type": "markdown",
   "metadata": {},
   "source": [
    "# Mathematical Formalism\n",
    "\n",
    "There are a couple odd features of the wave function that make it a little less elegant than the explanation above but is useful knowledge to have moving forward. Furthermore, you'll need a firm grasp of some of the mathematics to understand more complex examples.\n",
    "\n",
    "Firstly, Wave functions are **complex valued** meaning they don't just give you some real number that directly corresponds to the physical world. Instead, it gives you a complex number which, after further manipulation, will give you the *probability* or *probability density* of an observable having a certain value. \n",
    "\n",
    "Secondly, wave functions are **normalized** meaning that if you take the absolute value of the function and square it, then integrate over the function from $-\\infty$ to $\\infty$, the result is guaranteed to be 1. \n",
    "\n",
    "That's quite a lot of information so let's go ahead and take a stroll through the information.\n",
    "\n",
    "Let's imagine that I have a quantum system described by a wave function that takes two values, $x$ for position and $t$ for time:\n",
    "\n",
    "$$\\Psi(x,t)$$\n",
    "\n",
    "At this point in time, the function will just spit out some complex value.\n",
    "\n",
    "If you remember from above, we said that if we perform some manipulation we'll get the actual probability/probability density we're interested in:\n",
    "\n",
    "$$\\left\\lvert\\Psi(x,t)\\right\\rvert^2 = \\Psi(x,t)^*\\Psi(x,t) = \\rho(x,t)$$\n",
    "\n",
    "where the asterisk is the complex conjugate of the function.\n",
    "\n",
    "Then, the probability that the particle is at some location $x$ within a specified interval is:\n",
    "\n",
    "$$P_{a\\leq b\\leq c}(x) = \\int_a^b \\rho(x,t)dx$$\n",
    "\n",
    "This leads to that whole normalization condition:\n",
    "\n",
    "$$\\int_{-\\infty}^{\\infty}\\left\\lvert\\Psi(x,t)\\right\\rvert^2 = 1$$\n",
    "\n",
    "The reason being is that if we sum up all the probabilities of where the particle can exist, there is a 100% chance it's floating around somewhere."
   ]
  },
  {
   "cell_type": "markdown",
   "metadata": {},
   "source": [
    "## Vector Space and Hilbert Space\n",
    "\n",
    "In the last meeting, I also briefly went over what **Hilbert Space** and **Vector Space** were. \n",
    "\n",
    "The idea of vector spaces is incredibly powerful because as we long as we can define stuff to satisfy the set of rules of a vector space needs, we can use linear algebra to handle complex things like wave functions and quantum states!\n",
    "\n",
    "I wanted to give a more formal introduction here just to help solidify your understanding.\n",
    "\n",
    "A vector space is a collection, $V$ of vectors and two operators ($+$ and $\\cdot$) such that a set of rules holds for them.\n",
    "\n",
    "I will not list out all the rules (I encourage you to refer to the QCC (Quantum Computing Codex)) but the great majority of them are what you expect them to be such as:\n",
    "\n",
    "$$\\vec u + \\vec v = \\vec v + \\vec u$$\n",
    "\n",
    "The way you add vectors shouldn't matter (you should still get the same result)\n",
    "\n",
    "$$(\\vec u + \\vec v) \\in V$$\n",
    "\n",
    "Adding two vectors in the set of vectors $V$ should produce another vector that is in $V$. \n",
    "\n",
    "The powerful thing about vector spaces is that the \"vectors\" don't have to just be the vectors we're familiar with in Geometry and Physics. Vectors include things like polynomials, matrices, etc. __ANY SET OF THINGS__ that can satisfy a set of base rules constitute a vector space.\n",
    "\n",
    "**Hilbert Space** is a kind of **Vector Space** that has the same base rules as any **Vector Space** but adds some rules that line up with a lot of the \"quirks\" of Quantum Mechanics (like normalizing the wave function.)\n",
    "\n",
    "**Hilbert Space** itself is split into two other variations, **Finite Dimensional Hilbert Space** and **Infinite Dimensional Hilbert Space**.\n",
    "\n",
    "We'll be focusing on **Infinite Dimensional Hilbert Space** for several reasons:\n",
    "\n",
    "1. Vector space of complex-valued functions (sound familiar?)\n",
    "2. We have an infinite number of basis elements to create other elements from\n",
    "3. All functions are **square integrable**\n",
    "\n",
    "The second point seems a little odd but basically, we're familiar of the idea of using a set of vectors (basis vectors) capable of making every other vector. In Infinite Dimensional Hilbert Space, we're given an infinite number of basis functions (remember, vector spaces can be defined for anything that follows the rules) to make other functions from. In our case, wave functions!\n",
    "\n",
    "**square integrable** means the following property must be true:\n",
    "\n",
    "$$ \\int_{-\\infty}^\\infty \\mid f(x)\\mid^2 = \\text{finite} $$\n",
    "\n",
    "We are guaranteed a finite value for such integrals. "
   ]
  },
  {
   "cell_type": "markdown",
   "metadata": {},
   "source": [
    "## A Little Primer on Dirac Notation\n",
    "\n",
    "Dirac Notation or \"Bra-Ket\" notation is a way of working with vectors in Hilbert Space.\n",
    "\n",
    "There are a good number of features about it but I want to direct your attention to just two of them for this workshop.\n",
    "\n",
    "Whenever we have a vector like:\n",
    "\n",
    "$$ \\vec x = \\begin{bmatrix} 1 \\\\ 5 \\\\ 10 \\\\ \\end{bmatrix} $$\n",
    "\n",
    "We just represent it with the following:\n",
    "\n",
    "$$ \\ket{x} $$\n",
    "\n",
    "The $\\ket{}$ is known as a **ket** and represents a column vector. The actual value inside the $\\ket{}$ is just a label for your convenience, you could have put the word \"stuff\" in the ket but we like to choose labels that make sense to us.\n",
    "\n",
    "If we have a matrix defined like so:\n",
    "\n",
    "$$ A =\n",
    "\\begin{bmatrix}\n",
    "    1 & 2 & 3 \\\\\n",
    "    4 & 5 & 6 \\\\\n",
    "    7 & 8 & 9 \\\\\n",
    "\\end{bmatrix}\n",
    "$$\n",
    "\n",
    "We can multiply the ket with the matrix like so:\n",
    "\n",
    "$$ A\\ket{x} $$\n",
    "\n",
    "And that's it for Dirac Notation!\n",
    "\n",
    "# Qubits with Dirac Notation\n",
    "\n",
    "Remember when we said that all quantum systems were representable by wave functions? Do you also remember that we can use Hilbert Space to manipulate quantum states/wave functions with linear algebra instead of gnarly integrals?\n",
    "\n",
    "Now it all comes together.\n",
    "\n",
    "Qubits are actually represented as a *linear combination* of two basis vectors. The vectors are unit (length 1) and orthogonal (perpendicular) to each other. Remember though, that the two basis vectors could easily be two other wave functions and that the qubit __ITSELF__ is described by a wave function!\n",
    "\n",
    "You'd represent it like so:\n",
    "\n",
    "$$ \\ket{\\psi} = a\\ket{0} + b\\ket{1} $$\n",
    "\n",
    "Where\n",
    "\n",
    "$$ \\ket{0} = \\begin{bmatrix} 1 \\\\ 0 \\end{bmatrix} $$\n",
    "$$ \\ket{1} = \\begin{bmatrix} 0 \\\\ 1 \\end{bmatrix} $$\n",
    "\n",
    "and $a$ and $b$ must satisfy the following:\n",
    "\n",
    "$$ \\left| a \\right|^2 + \\left| b \\right|^2 = 1 $$\n",
    "\n",
    "This seemingly innocent mathematical expression already shows the qubit's ability for *superposition*, the ability to be in multiple states (in this case, some combination of the 0 and 1 kets) at once as we manipulate the probability the qubit will \"collapse\" into $\\ket{0}$ or $\\ket{1}$ upon measurement. You can think of $\\ket{0}$ and $\\ket{1}$ as the analogues to our digital 1's and 0's.\n",
    "\n",
    "During computation, we can exploit superposition but to extract an answer we have to make an observation which collapses the quantum system into either the 0 or 1 state."
   ]
  },
  {
   "cell_type": "markdown",
   "metadata": {},
   "source": [
    "# Simple Math With `Numpy`\n",
    "Let's give a try at constructing some of these vectors and matrices in code. You'll need this knowledge to actually build your own gates.\n",
    "\n",
    "We're using Python as our language of choice with help from the `numpy` package to construct vectors and matrices and let us perform standard linear algebra operations"
   ]
  },
  {
   "cell_type": "code",
   "execution_count": null,
   "metadata": {},
   "outputs": [],
   "source": [
    "# import numpy \n",
    "import numpy as np"
   ]
  },
  {
   "cell_type": "code",
   "execution_count": null,
   "metadata": {},
   "outputs": [],
   "source": [
    "# Create a vector with three elements\n",
    "np.array([1, 2, 3])"
   ]
  },
  {
   "cell_type": "code",
   "execution_count": null,
   "metadata": {},
   "outputs": [],
   "source": [
    "# Store the vector in a variable\n",
    "v = np.array([1, 2, 3])"
   ]
  },
  {
   "cell_type": "code",
   "execution_count": null,
   "metadata": {},
   "outputs": [],
   "source": [
    "# Create a 3 x 3 matrix\n",
    "np.matrix([[1,2,3], [4,5,6], [7,8,9]])"
   ]
  },
  {
   "cell_type": "code",
   "execution_count": null,
   "metadata": {},
   "outputs": [],
   "source": [
    "# Store the matrix\n",
    "m = np.matrix([[1,2,3], [4,5,6], [7,8,9]])"
   ]
  },
  {
   "cell_type": "code",
   "execution_count": null,
   "metadata": {},
   "outputs": [],
   "source": [
    "# Multiply the vector by the matrix\n",
    "m.dot(v)"
   ]
  },
  {
   "cell_type": "markdown",
   "metadata": {},
   "source": [
    "# Going Quantum with `qutip`\n",
    "\n",
    "`qutip` is a Python library for simulating quantum systems. Its main focus isn't really Quantum Computing (although it provides a great number of tools oriented towards it). \n",
    "\n",
    "We're going to create a simple Qubit in the $\\ket{1}$ state like so:"
   ]
  },
  {
   "cell_type": "code",
   "execution_count": null,
   "metadata": {},
   "outputs": [],
   "source": [
    "# import qutip\n",
    "from qutip import *"
   ]
  },
  {
   "cell_type": "code",
   "execution_count": null,
   "metadata": {},
   "outputs": [],
   "source": [
    "# give the qubit an initial state\n",
    "ket_one = np.array([0, 1])"
   ]
  },
  {
   "cell_type": "code",
   "execution_count": null,
   "metadata": {},
   "outputs": [],
   "source": [
    "# create the \"Quantum Object\" (our qubit)\n",
    "q = Qobj(ket_one)\n",
    "q"
   ]
  },
  {
   "cell_type": "markdown",
   "metadata": {},
   "source": [
    "# Operators and Gates\n",
    "\n",
    "The notation presented earlier to multiply a matrix with a ket looked like this:\n",
    "\n",
    "$$ A\\ket{x} $$\n",
    "\n",
    "This operation has a direct analogue to Quantum Mechanics.\n",
    "\n",
    "In traditional quantum mechanics, the operators would give you some value of a quantum system's energy, momentum, etc. \n",
    "\n",
    "For qubits, they just modify the state of the qubit, which literally means taking the vector that represents the qubit and multiplying it by a matrix.\n",
    "\n",
    "In the context of Quantum Computing, the operators are called **gates**, where you feed in a qubit and then you get some modified form of it out. \n",
    "\n",
    "Gates have two properties you should be aware of:"
   ]
  },
  {
   "cell_type": "markdown",
   "metadata": {},
   "source": [
    "1. __Reversability__ (Mostly)\n",
    "\n",
    "Putting a qubit through a gate and then putting it through the same gate again completely reverses the operation!\n",
    "\n",
    "This is in contrast to classical computing where if you put data through a logic gate, you permanently lose the ability to return to the original state of the data\n",
    "\n",
    "Note that this holds for any gates that change the probability of the qubit's collapse into the 1 or 0 basis. For those that don't, this rule doesn't apply (an example will be provided later on)"
   ]
  },
  {
   "cell_type": "code",
   "execution_count": null,
   "metadata": {},
   "outputs": [],
   "source": [
    "# This example shows two binary values being OR'd together\n",
    "# Note that this is NOT reversible because I can't tell what \"a\" and \"b\" were solely from the output value\n",
    "a = 0b11\n",
    "b = 0b01\n",
    "print(bin(a | b))\n",
    "# To really drive the point home, this configuration gives the same output but uses \n",
    "# dfferent inputs\n",
    "a = 0b00\n",
    "b = 0b11\n",
    "print(bin(a | b))"
   ]
  },
  {
   "cell_type": "markdown",
   "metadata": {},
   "source": [
    "2. __Unitary__\n",
    "\n",
    "The matrix that the gate is represented by must satisfy the property:\n",
    "\n",
    "$$U^{\\dagger }U=UU^{\\dagger }=I$$\n",
    "\n",
    "The little floating \"dagger\" next to $U$ means you have to take the **conjugate transpose** (also known as the Hermitian Conjugate in Quantum Mechanics). \n",
    "\n",
    "The **conjugate transopse** means that given a matrix, you take the conjugate of each element (flip the sign in front of the imaginary component) and then transpose it (flip the rows and columns). The formula in general states that taking the conjugate transpose creates the inverse of the matrix, which, when multiplied in any order with the original matrix produces the identity matrix.\n",
    "\n",
    "The example code should help explain some of the properties."
   ]
  },
  {
   "cell_type": "code",
   "execution_count": null,
   "metadata": {},
   "outputs": [],
   "source": [
    "# Create a matrix again\n",
    "# For imaginary values, note that we use \"j\" instead of \"i\"\n",
    "m = np.matrix([[0, -1j], [1j, 0]])"
   ]
  },
  {
   "cell_type": "code",
   "execution_count": null,
   "metadata": {},
   "outputs": [],
   "source": [
    "# Let's look at what the conjugate does\n",
    "np.conjugate(m)"
   ]
  },
  {
   "cell_type": "code",
   "execution_count": null,
   "metadata": {},
   "outputs": [],
   "source": [
    "# Let's look at what transpose does\n",
    "m.T"
   ]
  },
  {
   "cell_type": "code",
   "execution_count": null,
   "metadata": {},
   "outputs": [],
   "source": [
    "# Now let's put it all together\n",
    "np.conjugate(m).T"
   ]
  },
  {
   "cell_type": "code",
   "execution_count": null,
   "metadata": {},
   "outputs": [],
   "source": [
    "# Is this matrix Unitary? Let's find out\n",
    "np.conjugate(m).T * m"
   ]
  },
  {
   "cell_type": "code",
   "execution_count": null,
   "metadata": {},
   "outputs": [],
   "source": [
    "# Just to be safe...\n",
    "m * np.conjugate(m).T"
   ]
  },
  {
   "cell_type": "code",
   "execution_count": null,
   "metadata": {},
   "outputs": [],
   "source": [
    "# Fortunately, numpy has a built-in way of getting the Hermitian Conjugate\n",
    "m.H"
   ]
  },
  {
   "cell_type": "markdown",
   "metadata": {},
   "source": [
    "# Applying Gates to Qubits\n",
    "Let's go ahead and combine our knowledge of gates to qubits"
   ]
  },
  {
   "cell_type": "code",
   "execution_count": null,
   "metadata": {},
   "outputs": [],
   "source": [
    "# Create a qubit in the \"1\" state\n",
    "q = Qobj(np.array([0, 1]))\n",
    "q"
   ]
  },
  {
   "cell_type": "code",
   "execution_count": null,
   "metadata": {},
   "outputs": [],
   "source": [
    "# Create an X gate, this gate inverts the qubit so if it was in \"1\", it goes to \"0\" and vice versa\n",
    "x_matrix = np.matrix([[0, 1], [1, 0]])\n",
    "X = Qobj(x_matrix)\n",
    "X"
   ]
  },
  {
   "cell_type": "code",
   "execution_count": null,
   "metadata": {},
   "outputs": [],
   "source": [
    "# Apply the gate\n",
    "X * q"
   ]
  },
  {
   "cell_type": "code",
   "execution_count": null,
   "metadata": {},
   "outputs": [],
   "source": [
    "# Prove the property of reversability\n",
    "X * X * q"
   ]
  },
  {
   "cell_type": "markdown",
   "metadata": {},
   "source": [
    "Congratulations! You've built your first Single Qubit Quantum Gate! \n",
    "The X gate isn't the only gate out there, check this one out:"
   ]
  },
  {
   "cell_type": "code",
   "execution_count": null,
   "metadata": {},
   "outputs": [],
   "source": [
    "# Create a Hadamard gate, this gate puts the qubit in a superposition between \"1\" and \"0\"\n",
    "# This means that upon observation, there's a perfect 50-50 split in chances between getting a 1 or a 0\n",
    "h_matrix = 1/np.sqrt(2) * np.matrix([[1, 1], [1, -1]])\n",
    "H = Qobj(h_matrix)\n",
    "H"
   ]
  },
  {
   "cell_type": "code",
   "execution_count": null,
   "metadata": {},
   "outputs": [],
   "source": [
    "# Make sure the qubit is in \"1\", where we left it last time\n",
    "q"
   ]
  },
  {
   "cell_type": "code",
   "execution_count": null,
   "metadata": {},
   "outputs": [],
   "source": [
    "# Appply the gate\n",
    "H * q"
   ]
  },
  {
   "cell_type": "code",
   "execution_count": null,
   "metadata": {},
   "outputs": [],
   "source": [
    "# Verify reversability\n",
    "H * H * q"
   ]
  },
  {
   "cell_type": "markdown",
   "metadata": {},
   "source": [
    "# Visualizing Single Qubit Operations\n",
    "\n",
    "There's a nice way to visualize the state of the qubit as it undergoes these gate operations by plotting the qubit vector on something called a **Bloch Sphere**. \n",
    "\n",
    "The Bloch Sphere is quite literally a sphere, where each point on its surface graphically shows the superposition state (does it \"lean\" more towards $\\ket{1}$ or $\\ket{0}$)?\n",
    "\n",
    "If this is our original way of expressing the state of the qubit:\n",
    "$$ \\ket{\\psi} = a\\ket{0} + b\\ket{1} $$\n",
    "\n",
    "We can, through manipulation, acquire this formula:\n",
    "$$ \\ket{\\psi} = \\sin\\left(\\frac{\\theta}{2}\\right)\\ket{0} + e^{i\\phi}\\sin\\left(\\frac{\\theta}{2}\\right)\\ket{1}$$\n",
    "\n",
    "Which maps out like so:\n",
    "![](img/Bloch-sphere-representation-of-a-qubit.jpeg)\n",
    "\n",
    "When the vector is closer to one basis than the other ($\\ket{0}$ vs $\\ket{1}$) it means that upon measurement, your chances of getting a certain basis state lean more towards that state than the other.\n",
    "\n",
    "The ability to show a qubit state on a Bloch Sphere is also available in `qutip` and can be done like so:"
   ]
  },
  {
   "cell_type": "code",
   "execution_count": null,
   "metadata": {},
   "outputs": [],
   "source": [
    "# Import matplotlib for graphing/visualization libraries\n",
    "import matplotlib.pyplot as plt"
   ]
  },
  {
   "cell_type": "code",
   "execution_count": null,
   "metadata": {},
   "outputs": [],
   "source": [
    "# Create a Bloch sphere instance\n",
    "bloch_sphere = Bloch()"
   ]
  },
  {
   "cell_type": "code",
   "execution_count": null,
   "metadata": {},
   "outputs": [],
   "source": [
    "# Plot the sphere\n",
    "bloch_sphere.show()"
   ]
  },
  {
   "cell_type": "markdown",
   "metadata": {},
   "source": [
    "Let's go ahead and visualize the two basis states $\\ket{1}$ and $\\ket{0}$"
   ]
  },
  {
   "cell_type": "code",
   "execution_count": null,
   "metadata": {},
   "outputs": [],
   "source": [
    "# Create the basis states\n",
    "basis_1 = Qobj(np.array([0, 1]))\n",
    "basis_0 = Qobj(np.array([1, 0]))"
   ]
  },
  {
   "cell_type": "code",
   "execution_count": null,
   "metadata": {},
   "outputs": [],
   "source": [
    "# Feed the states into our bloch sphere\n",
    "bloch_sphere.add_states(basis_1)\n",
    "bloch_sphere.add_states(basis_0)"
   ]
  },
  {
   "cell_type": "code",
   "execution_count": null,
   "metadata": {},
   "outputs": [],
   "source": [
    "# Display the sphere\n",
    "bloch_sphere.show()"
   ]
  },
  {
   "cell_type": "markdown",
   "metadata": {},
   "source": [
    "We can see the when we have our qubits in the basis states, they point at exactly opposite ends of the sphere. Let's see what happens if we put the qubit into a perfect 50-50 superposition between 1 and 0 using the Hadamard Gate we made earlier."
   ]
  },
  {
   "cell_type": "code",
   "execution_count": null,
   "metadata": {},
   "outputs": [],
   "source": [
    "# clear the sphere\n",
    "bloch_sphere.clear()"
   ]
  },
  {
   "cell_type": "code",
   "execution_count": null,
   "metadata": {},
   "outputs": [],
   "source": [
    "# verify that the qubit we used before is in the |1> state \n",
    "q"
   ]
  },
  {
   "cell_type": "code",
   "execution_count": null,
   "metadata": {},
   "outputs": [],
   "source": [
    "# Store the result of applying the gate\n",
    "hadamard_applied_q = Qobj(H * q)"
   ]
  },
  {
   "cell_type": "code",
   "execution_count": null,
   "metadata": {},
   "outputs": [],
   "source": [
    "# Add the resulting state to the Bloch Sphere\n",
    "bloch_sphere.add_states(hadamard_applied_q)"
   ]
  },
  {
   "cell_type": "code",
   "execution_count": null,
   "metadata": {},
   "outputs": [],
   "source": [
    "# Plot the sphere\n",
    "bloch_sphere.show()"
   ]
  },
  {
   "cell_type": "markdown",
   "metadata": {},
   "source": [
    "Note that the vector lays perfectly inbetween the basis states, meaning that if we \"measured\" the system it would have a 50-50 chance of collapsing into the 0 or 1 state.\n",
    "\n",
    "Let's confirm the reversability of the gate by applying the Hadamard yet again to the previous result."
   ]
  },
  {
   "cell_type": "code",
   "execution_count": null,
   "metadata": {},
   "outputs": [],
   "source": [
    "# Apply the Hadamard on the qubit state from last time\n",
    "reversed_hadamard_q = Qobj(H * hadamard_applied_q)"
   ]
  },
  {
   "cell_type": "code",
   "execution_count": null,
   "metadata": {},
   "outputs": [],
   "source": [
    "# Clear the sphere of the previous state\n",
    "bloch_sphere.clear()"
   ]
  },
  {
   "cell_type": "code",
   "execution_count": null,
   "metadata": {},
   "outputs": [],
   "source": [
    "# add the new state to the sphere\n",
    "bloch_sphere.add_states(reversed_hadamard_q)"
   ]
  },
  {
   "cell_type": "code",
   "execution_count": null,
   "metadata": {},
   "outputs": [],
   "source": [
    "# display the sphere\n",
    "bloch_sphere.show()"
   ]
  },
  {
   "cell_type": "markdown",
   "metadata": {},
   "source": [
    "Note that we're now back where we started ( $\\ket{1}$ ), thus proving the reversability of the gate."
   ]
  },
  {
   "cell_type": "markdown",
   "metadata": {},
   "source": [
    "# More Advanced Examples\n",
    "\n",
    "There are much more than Hadamard and X gates available for usage on singule qubits:\n",
    "\n",
    "![](img/800px-Quantum_Logic_Gates.png)\n",
    "\n",
    "We'll ignore the multi-qubit gates as those are planned for the next workshop but let's try implementing one last gate, the `T` gate which has the following matrix associated with it:\n",
    "\n",
    "$$ T =\n",
    "\\begin{bmatrix}\n",
    "1 & 0 \\\\\n",
    "0 & e^{\\frac{i\\pi}{4}} \\\\\n",
    "\\end{bmatrix}\n",
    "$$"
   ]
  },
  {
   "cell_type": "code",
   "execution_count": null,
   "metadata": {},
   "outputs": [],
   "source": [
    "# Create the T gate matrix\n",
    "t_matrix = np.matrix([[1, 0], [0,np.exp(( 1j *np.pi)/4)]])\n",
    "t_matrix"
   ]
  },
  {
   "cell_type": "code",
   "execution_count": null,
   "metadata": {},
   "outputs": [],
   "source": [
    "# Create the T gate iself\n",
    "T = Qobj(t_matrix)\n",
    "T"
   ]
  },
  {
   "cell_type": "code",
   "execution_count": null,
   "metadata": {},
   "outputs": [],
   "source": [
    "# Verify we haven't accidentally changed the qubit permanently during any operation\n",
    "q"
   ]
  },
  {
   "cell_type": "code",
   "execution_count": null,
   "metadata": {},
   "outputs": [],
   "source": [
    "# Apply T on q\n",
    "T_applied_state = Qobj(T * q)\n",
    "T_applied_state"
   ]
  },
  {
   "cell_type": "code",
   "execution_count": null,
   "metadata": {},
   "outputs": [],
   "source": [
    "# Clear the bloch sphere of any existing states previously displayed\n",
    "bloch_sphere.clear()"
   ]
  },
  {
   "cell_type": "code",
   "execution_count": null,
   "metadata": {},
   "outputs": [],
   "source": [
    "# Add the state to the sphere, then display it\n",
    "bloch_sphere.add_states(T_applied_state)\n",
    "bloch_sphere.show()"
   ]
  },
  {
   "cell_type": "markdown",
   "metadata": {},
   "source": [
    "Well, that's a little underwhelming, isn't it? Most of the time, you'll need the qubit to be in some superposition state (compared to a basis state) to really observe the effect of a gate. \n",
    "\n",
    "Let's put the Hadamard to use again. This time, to make things more efficient we're going to overwrite the qubit state variable in Python instead of duplicating the variable."
   ]
  },
  {
   "cell_type": "code",
   "execution_count": null,
   "metadata": {},
   "outputs": [],
   "source": [
    "# clear the bloch sphere\n",
    "bloch_sphere.clear()"
   ]
  },
  {
   "cell_type": "code",
   "execution_count": null,
   "metadata": {},
   "outputs": [],
   "source": [
    "# Remind ourselves how to set a qubit in the |1> state\n",
    "q = Qobj(np.array([0, 1]))\n",
    "q"
   ]
  },
  {
   "cell_type": "code",
   "execution_count": null,
   "metadata": {},
   "outputs": [],
   "source": [
    "# Apply the Hadamard, followed by the T gate\n",
    "q = T * H * q"
   ]
  },
  {
   "cell_type": "code",
   "execution_count": null,
   "metadata": {},
   "outputs": [],
   "source": [
    "# Add the state to the bloch sphere and display it\n",
    "bloch_sphere.add_states(q)\n",
    "bloch_sphere.show()"
   ]
  },
  {
   "cell_type": "markdown",
   "metadata": {},
   "source": [
    "Now we start seeing some interesting behavior.\n",
    "\n",
    "Usually the Hadamard just puts the vector pointing between the basis vectors, but this time we see some rotation along the middle of the sphere.\n",
    "\n",
    "Let's verify the behavior by apply the gate again."
   ]
  },
  {
   "cell_type": "code",
   "execution_count": null,
   "metadata": {},
   "outputs": [],
   "source": [
    "# Apply again\n",
    "q = T * q"
   ]
  },
  {
   "cell_type": "code",
   "execution_count": null,
   "metadata": {},
   "outputs": [],
   "source": [
    "# Add the state and show it\n",
    "# NOTE: We didn't do the usual bloch_sphere.clear) because we wanted to keep the old state as well\n",
    "bloch_sphere.add_states(q)\n",
    "bloch_sphere.show()"
   ]
  },
  {
   "cell_type": "code",
   "execution_count": null,
   "metadata": {},
   "outputs": [],
   "source": [
    "# Do it yet again!\n",
    "q = T * q\n",
    "bloch_sphere.add_states(q)\n",
    "bloch_sphere.show()"
   ]
  },
  {
   "cell_type": "markdown",
   "metadata": {},
   "source": [
    "How do we interpret this gate? The `T` gate falls in a general class of \"Phase Shift Gates\" which \"rotate\" the qubit's vector along some line of latitude on the sphere.\n",
    "\n",
    "Note that this doesn't change the chances you'll get a $\\ket{0}$ or $\\ket{1}$ on output, which is determined by the longitudinal proximity of the vector to the $\\ket{0}$ or $\\ket{1}$ bases. \n",
    "\n",
    "Also note that it isn't reversible either (if you put the qubit through it, you won't get your original state back) but this is a bit of a sleight of hand because it didn't change the \"chances\" or \"probability\" of getting a value, it just lets you encode another piece of information in the superpostion!"
   ]
  },
  {
   "cell_type": "markdown",
   "metadata": {},
   "source": [
    "# Next Time\n",
    "\n",
    "For our next meeting, we'll be looking at gates that take multiple inputs and building off and being able to visualize multi-qubit states."
   ]
  },
  {
   "cell_type": "code",
   "execution_count": null,
   "metadata": {},
   "outputs": [],
   "source": []
  }
 ],
 "metadata": {
  "kernelspec": {
   "display_name": "quantum-edu",
   "language": "python",
   "name": "quantum-edu"
  },
  "language_info": {
   "codemirror_mode": {
    "name": "ipython",
    "version": 3
   },
   "file_extension": ".py",
   "mimetype": "text/x-python",
   "name": "python",
   "nbconvert_exporter": "python",
   "pygments_lexer": "ipython3",
   "version": "3.8.1"
  }
 },
 "nbformat": 4,
 "nbformat_minor": 2
}
